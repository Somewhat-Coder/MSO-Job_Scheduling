{
 "cells": [
  {
   "cell_type": "code",
   "execution_count": 15,
   "id": "047ac0b5-0431-4ea3-a3f2-9ed54713bea0",
   "metadata": {},
   "outputs": [],
   "source": [
    "import random\n",
    "\n",
    "def generateData(machines=4, jobs=7, seed=0):\n",
    "    PROC = [ [ 0 for m in range(machines) ] for j in range(jobs) ]\n",
    "    random.seed(seed)\n",
    "    for j in range(jobs):\n",
    "        for m in range(machines):\n",
    "            PROC[j][m] = random.randint(1,9)\n",
    "    return PROC"
   ]
  },
  {
   "cell_type": "code",
   "execution_count": 16,
   "id": "519c7180-7401-4392-aa99-f5ad302f7937",
   "metadata": {},
   "outputs": [],
   "source": [
    "import pulp\n",
    "\n",
    "def IP(PROC):\n",
    "\n",
    "    steps = [ len(job) for job in PROC ]\n",
    "    assert(min(steps)==max(steps))\n",
    "    N_MACHINES = len(PROC[0])\n",
    "    N_JOBS = len(PROC)\n",
    "\n",
    "\n",
    "    def val(x):\n",
    "        return int(pulp.value(x))\n",
    "\n",
    "    def proc(job, machine):\n",
    "        return pulp.lpSum( [ PROC[j][machine] * JJ[job][j] for j in range(N_JOBS) ] ) \n",
    "\n",
    "    JJ = pulp.LpVariable.dicts(\"J\", (range(N_JOBS), range(N_JOBS)), lowBound=0, upBound=1, cat='Integer')\n",
    "    Wait = pulp.LpVariable.dicts(\"WAIT\", (range(N_JOBS), range(N_MACHINES)), lowBound=0, cat='Integer')\n",
    "    Idle = pulp.LpVariable.dicts(\"IDLE\", (range(N_JOBS), range(N_MACHINES)), lowBound=0, cat='Integer')\n",
    "    Start = pulp.LpVariable.dicts(\"START\", (range(N_JOBS), range(N_MACHINES)), lowBound=0, cat='Integer')\n",
    "    Stop = pulp.LpVariable.dicts(\"STOP\", (range(N_JOBS), range(N_MACHINES)), lowBound=0, cat='Integer')\n",
    "\n",
    "    prob = pulp.LpProblem(\"JobScheduling\",pulp.LpMinimize)\n",
    "    prob += Stop[N_JOBS-1][N_MACHINES-1]\n",
    "\n",
    "    # JJ is a permutation of the jobs\n",
    "    for j in range(N_JOBS):\n",
    "        prob += pulp.lpSum( [ JJ[j][jj] for jj in range(N_JOBS) ] ) == 1\n",
    "        prob += pulp.lpSum( [ JJ[jj][j] for jj in range(N_JOBS) ] ) == 1\n",
    "\n",
    "    for m in range(N_MACHINES):\n",
    "        for j in range(N_JOBS):\n",
    "            prob += pulp.lpSum( [ Idle[ji][m] + proc(ji, m) for ji in range(j) ] ) + Idle[j][m] == Start[j][m]\n",
    "\n",
    "    for m in range(N_MACHINES):\n",
    "        for j in range(N_JOBS):\n",
    "            prob += pulp.lpSum( [ Wait[j][mi] + proc(j, mi) for mi in range(m) ] ) + Wait[j][m] == Start[j][m]\n",
    "\n",
    "    for j in range(N_JOBS):\n",
    "        for m in range(N_MACHINES):\n",
    "            prob += Start[j][m] + proc(j,m) == Stop[j][m]\n",
    "\n",
    "    solvers = pulp.listSolvers(onlyAvailable=True) \n",
    "    solver = pulp.getSolver(solvers[0], msg=0)\n",
    "    prob.solve(solver)\n",
    "\n",
    "    acc = []\n",
    "    for j in range(N_JOBS):\n",
    "        for jj in range(N_JOBS):\n",
    "            if pulp.value(JJ[j][jj])==1:\n",
    "                acc.append(jj)\n",
    "                \n",
    "    return acc, int(pulp.value(prob.objective))"
   ]
  },
  {
   "cell_type": "code",
   "execution_count": 17,
   "id": "749c6fdd-d791-44af-a279-215508e0c1c1",
   "metadata": {},
   "outputs": [],
   "source": [
    "import numpy as np\n",
    "\n",
    "def totalTime(PROC, seq, log=False):\n",
    "    \n",
    "    def isPermutation(seq):\n",
    "        for i in range(len(seq)):\n",
    "            if i not in seq:\n",
    "                return False\n",
    "        return True\n",
    "    \n",
    "    steps = [ len(job) for job in PROC ]\n",
    "    assert(len(PROC) == len(seq))\n",
    "    assert(isPermutation(seq))\n",
    "    assert(min(steps)==max(steps))\n",
    "    n_machines = len(PROC[0])\n",
    "    n_jobs = len(PROC)\n",
    "    wait = np.zeros([n_jobs, n_machines], dtype=int)\n",
    "    idle = np.zeros([n_jobs, n_machines], dtype=int)\n",
    "    start = np.zeros([n_jobs, n_machines], dtype=int)\n",
    "    stop  = np.zeros([n_jobs, n_machines], dtype=int)\n",
    "    proc = np.zeros([n_jobs, n_machines], dtype=int)\n",
    "    for job in range(n_jobs):\n",
    "        proc[job] = PROC[seq[job]]\n",
    "    for job in range(n_jobs):\n",
    "        for machine in range(n_machines):\n",
    "            start[job, machine] = max(stop[job-1, machine] if job>0 else 0, stop[job, machine-1] if machine>0 else 0)\n",
    "            wait[job, machine] = start[job, machine] - (stop[job, machine-1] if machine>0 else 0)\n",
    "            idle[job, machine] = start[job, machine] - (stop[job-1, machine] if job>0 else 0)\n",
    "            stop[job, machine] = start[job, machine] + proc[job, machine]\n",
    "\n",
    "    if log:\n",
    "\n",
    "        row = '|---------|'\n",
    "        for m in range(n_machines):\n",
    "            row += f\"------------|\" \\\n",
    "                    f\"------------|\"\n",
    "        print(row)\n",
    "        \n",
    "        row = '|         |'\n",
    "        for m in range(n_machines):\n",
    "            row += f\"            |\" \\\n",
    "                    f\" Machine: {m:1d} |\"\n",
    "        print(row)\n",
    "        \n",
    "        for j in range(n_jobs):\n",
    "            \n",
    "            row = '|---------|'\n",
    "            for m in range(n_machines):\n",
    "                row += f\"------------|\" \\\n",
    "                       f\"------------|\"\n",
    "            print(row)\n",
    "            \n",
    "            row = '|         |'\n",
    "            for m in range(n_machines):\n",
    "                row += f\"       {' ':4s} | \" \\\n",
    "                       f\"Idle: {idle[j,m]:4d} |\"\n",
    "            print(row)\n",
    "            \n",
    "            row = '|---------|'\n",
    "            for m in range(n_machines):\n",
    "                row += f\"------------|\" \\\n",
    "                       f\"------------|\"\n",
    "            print(row)\n",
    "            \n",
    "            row = '|         |'\n",
    "            for m in range(n_machines):\n",
    "                row += f\"       {' ':4s} | \" \\\n",
    "                       f\"Start:{start[j,m]:4d} |\"  \n",
    "            print(row)\n",
    "            \n",
    "            row = f'| Job: {seq[j]:2d} |'\n",
    "            for m in range(n_machines):\n",
    "                row += f\" Wait: {wait[j,m]:4d} | \" \\\n",
    "                       f\"Proc: {proc[j,m]:4d} |\"\n",
    "            print(row)\n",
    "            \n",
    "            row = '|         |'\n",
    "            for m in range(n_machines):\n",
    "                row += f\"       {' ':4s} | \" \\\n",
    "                       f\"Stop: {stop[j,m]:4d} |\"  \n",
    "            print(row)\n",
    "            \n",
    "        row = '|---------|'\n",
    "        for m in range(n_machines):\n",
    "            row += f\"------------|\" \\\n",
    "                    f\"------------|\"\n",
    "        print(row)\n",
    "\n",
    "    \n",
    "    return stop[n_jobs-1, n_machines-1]                                                       "
   ]
  },
  {
   "cell_type": "code",
   "execution_count": 18,
   "id": "d17cd20b-c03b-465d-b468-a3c8fe23427f",
   "metadata": {},
   "outputs": [],
   "source": [
    "PROC = generateData(machines=4, jobs=7, seed=9850)"
   ]
  },
  {
   "cell_type": "markdown",
   "id": "7629b33d-97c6-4d2a-a31f-65e45520a1e2",
   "metadata": {},
   "source": [
    "Compute the optimal job schedule:"
   ]
  },
  {
   "cell_type": "code",
   "execution_count": 19,
   "id": "c1ac5d36-9498-47e9-9599-ba7607a04416",
   "metadata": {},
   "outputs": [
    {
     "name": "stdout",
     "output_type": "stream",
     "text": [
      "[5, 4, 3, 2, 0, 6, 1]\n",
      "54\n"
     ]
    }
   ],
   "source": [
    "seq, proctime = IP(PROC)\n",
    "print(seq)\n",
    "print(proctime)"
   ]
  },
  {
   "cell_type": "markdown",
   "id": "70f001fe-ded6-4463-9524-910eddc241e5",
   "metadata": {},
   "source": [
    "Check the processing time and print the schedule"
   ]
  },
  {
   "cell_type": "code",
   "execution_count": 20,
   "id": "0c6a705c-9655-4343-9e34-07b4cf31ea09",
   "metadata": {},
   "outputs": [
    {
     "data": {
      "text/plain": [
       "54"
      ]
     },
     "execution_count": 20,
     "metadata": {},
     "output_type": "execute_result"
    }
   ],
   "source": [
    "totalTime(PROC, seq)"
   ]
  },
  {
   "cell_type": "code",
   "execution_count": 21,
   "id": "13805846-38f0-4006-a81d-4494b9e4089e",
   "metadata": {},
   "outputs": [
    {
     "name": "stdout",
     "output_type": "stream",
     "text": [
      "|---------|------------|------------|------------|------------|------------|------------|------------|------------|\n",
      "|         |            | Machine: 0 |            | Machine: 1 |            | Machine: 2 |            | Machine: 3 |\n",
      "|---------|------------|------------|------------|------------|------------|------------|------------|------------|\n",
      "|         |            | Idle:    0 |            | Idle:    1 |            | Idle:    8 |            | Idle:   12 |\n",
      "|---------|------------|------------|------------|------------|------------|------------|------------|------------|\n",
      "|         |            | Start:   0 |            | Start:   1 |            | Start:   8 |            | Start:  12 |\n",
      "| Job:  5 | Wait:    0 | Proc:    1 | Wait:    0 | Proc:    7 | Wait:    0 | Proc:    4 | Wait:    0 | Proc:    5 |\n",
      "|         |            | Stop:    1 |            | Stop:    8 |            | Stop:   12 |            | Stop:   17 |\n",
      "|---------|------------|------------|------------|------------|------------|------------|------------|------------|\n",
      "|         |            | Idle:    0 |            | Idle:    0 |            | Idle:    2 |            | Idle:    0 |\n",
      "|---------|------------|------------|------------|------------|------------|------------|------------|------------|\n",
      "|         |            | Start:   1 |            | Start:   8 |            | Start:  14 |            | Start:  17 |\n",
      "| Job:  4 | Wait:    1 | Proc:    7 | Wait:    0 | Proc:    6 | Wait:    0 | Proc:    1 | Wait:    2 | Proc:    9 |\n",
      "|         |            | Stop:    8 |            | Stop:   14 |            | Stop:   15 |            | Stop:   26 |\n",
      "|---------|------------|------------|------------|------------|------------|------------|------------|------------|\n",
      "|         |            | Idle:    0 |            | Idle:    0 |            | Idle:    6 |            | Idle:    0 |\n",
      "|---------|------------|------------|------------|------------|------------|------------|------------|------------|\n",
      "|         |            | Start:   8 |            | Start:  14 |            | Start:  21 |            | Start:  26 |\n",
      "| Job:  3 | Wait:    8 | Proc:    1 | Wait:    5 | Proc:    7 | Wait:    0 | Proc:    5 | Wait:    0 | Proc:    8 |\n",
      "|         |            | Stop:    9 |            | Stop:   21 |            | Stop:   26 |            | Stop:   34 |\n",
      "|---------|------------|------------|------------|------------|------------|------------|------------|------------|\n",
      "|         |            | Idle:    0 |            | Idle:    0 |            | Idle:    0 |            | Idle:    0 |\n",
      "|---------|------------|------------|------------|------------|------------|------------|------------|------------|\n",
      "|         |            | Start:   9 |            | Start:  21 |            | Start:  26 |            | Start:  34 |\n",
      "| Job:  2 | Wait:    9 | Proc:    4 | Wait:    8 | Proc:    2 | Wait:    3 | Proc:    8 | Wait:    0 | Proc:    7 |\n",
      "|         |            | Stop:   13 |            | Stop:   23 |            | Stop:   34 |            | Stop:   41 |\n",
      "|---------|------------|------------|------------|------------|------------|------------|------------|------------|\n",
      "|         |            | Idle:    0 |            | Idle:    0 |            | Idle:    0 |            | Idle:    0 |\n",
      "|---------|------------|------------|------------|------------|------------|------------|------------|------------|\n",
      "|         |            | Start:  13 |            | Start:  23 |            | Start:  34 |            | Start:  41 |\n",
      "| Job:  0 | Wait:   13 | Proc:    7 | Wait:    3 | Proc:    6 | Wait:    5 | Proc:    3 | Wait:    4 | Proc:    6 |\n",
      "|         |            | Stop:   20 |            | Stop:   29 |            | Stop:   37 |            | Stop:   47 |\n",
      "|---------|------------|------------|------------|------------|------------|------------|------------|------------|\n",
      "|         |            | Idle:    0 |            | Idle:    0 |            | Idle:    0 |            | Idle:    0 |\n",
      "|---------|------------|------------|------------|------------|------------|------------|------------|------------|\n",
      "|         |            | Start:  20 |            | Start:  29 |            | Start:  37 |            | Start:  47 |\n",
      "| Job:  6 | Wait:   20 | Proc:    5 | Wait:    4 | Proc:    2 | Wait:    6 | Proc:    7 | Wait:    3 | Proc:    2 |\n",
      "|         |            | Stop:   25 |            | Stop:   31 |            | Stop:   44 |            | Stop:   49 |\n",
      "|---------|------------|------------|------------|------------|------------|------------|------------|------------|\n",
      "|         |            | Idle:    0 |            | Idle:    3 |            | Idle:    0 |            | Idle:    0 |\n",
      "|---------|------------|------------|------------|------------|------------|------------|------------|------------|\n",
      "|         |            | Start:  25 |            | Start:  34 |            | Start:  44 |            | Start:  49 |\n",
      "| Job:  1 | Wait:   25 | Proc:    9 | Wait:    0 | Proc:    3 | Wait:    7 | Proc:    3 | Wait:    2 | Proc:    5 |\n",
      "|         |            | Stop:   34 |            | Stop:   37 |            | Stop:   47 |            | Stop:   54 |\n",
      "|---------|------------|------------|------------|------------|------------|------------|------------|------------|\n"
     ]
    },
    {
     "data": {
      "text/plain": [
       "54"
      ]
     },
     "execution_count": 21,
     "metadata": {},
     "output_type": "execute_result"
    }
   ],
   "source": [
    "totalTime(PROC, seq, log=True)"
   ]
  },
  {
   "cell_type": "markdown",
   "id": "72bd4682",
   "metadata": {},
   "source": [
    "# Implementing Greedy Solution"
   ]
  },
  {
   "cell_type": "code",
   "execution_count": 22,
   "id": "8c595d8b",
   "metadata": {},
   "outputs": [],
   "source": [
    "def greedy_algorithm(PROC):\n",
    "    # Number of jobs and machines\n",
    "    N_JOBS = len(PROC)\n",
    "    N_MACHINES = len(PROC[0])\n",
    "\n",
    "    # Greedy algorithm: sort jobs by total processing time (shortest first)\n",
    "    job_order = sorted(range(N_JOBS), key=lambda j: sum(PROC[j]))\n",
    "    \n",
    "    # Return the order of jobs as the sequence\n",
    "    return job_order\n"
   ]
  },
  {
   "cell_type": "markdown",
   "id": "a1c182db",
   "metadata": {},
   "source": [
    "# Genetic Algorithm"
   ]
  },
  {
   "cell_type": "code",
   "execution_count": 23,
   "id": "9b0eb4d3",
   "metadata": {},
   "outputs": [],
   "source": [
    "import random\n",
    "\n",
    "def genetic_algorithm(PROC, population_size=100, generations=500, mutation_rate=0.1):\n",
    "    N_JOBS = len(PROC)\n",
    "    \n",
    "    def create_individual():\n",
    "        return random.sample(range(N_JOBS), N_JOBS)\n",
    "    \n",
    "    def crossover(parent1, parent2):\n",
    "        crossover_point = random.randint(1, N_JOBS-2)\n",
    "        child1 = parent1[:crossover_point] + [job for job in parent2 if job not in parent1[:crossover_point]]\n",
    "        child2 = parent2[:crossover_point] + [job for job in parent1 if job not in parent2[:crossover_point]]\n",
    "        return child1, child2\n",
    "    \n",
    "    def mutate(individual):\n",
    "        i, j = random.sample(range(N_JOBS), 2)\n",
    "        individual[i], individual[j] = individual[j], individual[i]\n",
    "    \n",
    "    def fitness(individual):\n",
    "        return totalTime(PROC, individual)\n",
    "    \n",
    "    # Initial population\n",
    "    population = [create_individual() for _ in range(population_size)]\n",
    "    \n",
    "    for _ in range(generations):\n",
    "        # Evaluate fitness of the population\n",
    "        population = sorted(population, key=fitness)\n",
    "        \n",
    "        # Create the next generation\n",
    "        next_generation = population[:population_size//2]  # Keep top 50%\n",
    "        \n",
    "        # Crossover\n",
    "        for i in range(0, len(next_generation), 2):\n",
    "            if i+1 < len(next_generation):\n",
    "                child1, child2 = crossover(next_generation[i], next_generation[i+1])\n",
    "                next_generation.append(child1)\n",
    "                next_generation.append(child2)\n",
    "        \n",
    "        # Mutate\n",
    "        for individual in next_generation[1:]:  # Skip the best individual\n",
    "            if random.random() < mutation_rate:\n",
    "                mutate(individual)\n",
    "        \n",
    "        # Replace old population with the new generation\n",
    "        population = next_generation[:population_size]\n",
    "    \n",
    "    # Return the best individual from the final population\n",
    "    best_individual = min(population, key=fitness)\n",
    "    return best_individual\n"
   ]
  },
  {
   "cell_type": "code",
   "execution_count": 24,
   "id": "2a9d3ef6",
   "metadata": {},
   "outputs": [
    {
     "name": "stdout",
     "output_type": "stream",
     "text": [
      "Greedy Algorithm Schedule: [6, 5, 1, 2, 3, 0, 4]\n",
      "Total Time (Greedy): 59\n",
      "Genetic Algorithm Schedule: [5, 4, 6, 3, 1, 0, 2]\n",
      "Total Time (Genetic): 54\n"
     ]
    }
   ],
   "source": [
    "# Implementing Greedy Algorithm\n",
    "greedy_schedule = greedy_algorithm(PROC)\n",
    "print(\"Greedy Algorithm Schedule:\", greedy_schedule)\n",
    "greedy_time = totalTime(PROC, greedy_schedule)\n",
    "print(\"Total Time (Greedy):\", greedy_time)\n",
    "\n",
    "# Implementing Genetic Algorithm\n",
    "genetic_schedule = genetic_algorithm(PROC)\n",
    "print(\"Genetic Algorithm Schedule:\", genetic_schedule)\n",
    "genetic_time = totalTime(PROC, genetic_schedule)\n",
    "print(\"Total Time (Genetic):\", genetic_time)\n"
   ]
  },
  {
   "cell_type": "code",
   "execution_count": 25,
   "id": "2ee38825",
   "metadata": {},
   "outputs": [
    {
     "name": "stdout",
     "output_type": "stream",
     "text": [
      "Greedy Algorithm Schedule: [6, 5, 1, 2, 3, 0, 4]\n",
      "Total Time (Greedy): 59\n",
      "Detailed Schedule:\n",
      "Job 6: [Start: 0, Stop: 5] [Start: 5, Stop: 7] [Start: 7, Stop: 14] [Start: 14, Stop: 16] \n",
      "Job 5: [Start: 5, Stop: 6] [Start: 7, Stop: 14] [Start: 14, Stop: 18] [Start: 18, Stop: 23] \n",
      "Job 1: [Start: 6, Stop: 15] [Start: 15, Stop: 18] [Start: 18, Stop: 21] [Start: 23, Stop: 28] \n",
      "Job 2: [Start: 15, Stop: 19] [Start: 19, Stop: 21] [Start: 21, Stop: 29] [Start: 29, Stop: 36] \n",
      "Job 3: [Start: 19, Stop: 20] [Start: 21, Stop: 28] [Start: 29, Stop: 34] [Start: 36, Stop: 44] \n",
      "Job 0: [Start: 20, Stop: 27] [Start: 28, Stop: 34] [Start: 34, Stop: 37] [Start: 44, Stop: 50] \n",
      "Job 4: [Start: 27, Stop: 34] [Start: 34, Stop: 40] [Start: 40, Stop: 41] [Start: 50, Stop: 59] \n"
     ]
    }
   ],
   "source": [
    "def print_schedule(PROC, job_order):\n",
    "    N_JOBS = len(PROC)\n",
    "    N_MACHINES = len(PROC[0])\n",
    "\n",
    "    start_time = [[0] * N_MACHINES for _ in range(N_JOBS)]\n",
    "    stop_time = [[0] * N_MACHINES for _ in range(N_JOBS)]\n",
    "    \n",
    "    for job_index in range(N_JOBS):\n",
    "        job = job_order[job_index]\n",
    "        for machine in range(N_MACHINES):\n",
    "            if machine == 0:\n",
    "                start_time[job][machine] = stop_time[job_order[job_index-1]][machine] if job_index > 0 else 0\n",
    "            else:\n",
    "                start_time[job][machine] = max(stop_time[job][machine-1], stop_time[job_order[job_index-1]][machine] if job_index > 0 else 0)\n",
    "            stop_time[job][machine] = start_time[job][machine] + PROC[job][machine]\n",
    "\n",
    "    print(\"Detailed Schedule:\")\n",
    "    for job in job_order:\n",
    "        print(f\"Job {job}: \", end=\"\")\n",
    "        for machine in range(N_MACHINES):\n",
    "            print(f\"[Start: {start_time[job][machine]}, Stop: {stop_time[job][machine]}] \", end=\"\")\n",
    "        print()\n",
    "\n",
    "# Implementing Greedy Algorithm\n",
    "greedy_schedule = greedy_algorithm(PROC)\n",
    "print(\"Greedy Algorithm Schedule:\", greedy_schedule)\n",
    "greedy_time = totalTime(PROC, greedy_schedule)\n",
    "print(\"Total Time (Greedy):\", greedy_time)\n",
    "print_schedule(PROC, greedy_schedule)\n"
   ]
  },
  {
   "cell_type": "code",
   "execution_count": 26,
   "id": "8314b8b3",
   "metadata": {},
   "outputs": [
    {
     "name": "stdout",
     "output_type": "stream",
     "text": [
      "Genetic Algorithm Schedule: [5, 4, 3, 1, 2, 6, 0]\n",
      "Total Time (Genetic): 54\n",
      "Detailed Schedule:\n",
      "Job 5: [Start: 0, Stop: 1] [Start: 1, Stop: 8] [Start: 8, Stop: 12] [Start: 12, Stop: 17] \n",
      "Job 4: [Start: 1, Stop: 8] [Start: 8, Stop: 14] [Start: 14, Stop: 15] [Start: 17, Stop: 26] \n",
      "Job 3: [Start: 8, Stop: 9] [Start: 14, Stop: 21] [Start: 21, Stop: 26] [Start: 26, Stop: 34] \n",
      "Job 1: [Start: 9, Stop: 18] [Start: 21, Stop: 24] [Start: 26, Stop: 29] [Start: 34, Stop: 39] \n",
      "Job 2: [Start: 18, Stop: 22] [Start: 24, Stop: 26] [Start: 29, Stop: 37] [Start: 39, Stop: 46] \n",
      "Job 6: [Start: 22, Stop: 27] [Start: 27, Stop: 29] [Start: 37, Stop: 44] [Start: 46, Stop: 48] \n",
      "Job 0: [Start: 27, Stop: 34] [Start: 34, Stop: 40] [Start: 44, Stop: 47] [Start: 48, Stop: 54] \n"
     ]
    }
   ],
   "source": [
    "# Implementing Genetic Algorithm\n",
    "genetic_schedule = genetic_algorithm(PROC)\n",
    "print(\"Genetic Algorithm Schedule:\", genetic_schedule)\n",
    "genetic_time = totalTime(PROC, genetic_schedule)\n",
    "print(\"Total Time (Genetic):\", genetic_time)\n",
    "print_schedule(PROC, genetic_schedule)\n"
   ]
  },
  {
   "cell_type": "code",
   "execution_count": 27,
   "id": "5159308b",
   "metadata": {},
   "outputs": [
    {
     "name": "stdout",
     "output_type": "stream",
     "text": [
      "Stochastic Optimization Schedule: [5, 4, 2, 1, 3, 6, 0]\n",
      "Total Time (Stochastic): 54\n",
      "Detailed Schedule:\n",
      "Job 5: [Start: 0, Stop: 1] [Start: 1, Stop: 8] [Start: 8, Stop: 12] [Start: 12, Stop: 17] \n",
      "Job 4: [Start: 1, Stop: 8] [Start: 8, Stop: 14] [Start: 14, Stop: 15] [Start: 17, Stop: 26] \n",
      "Job 2: [Start: 8, Stop: 12] [Start: 14, Stop: 16] [Start: 16, Stop: 24] [Start: 26, Stop: 33] \n",
      "Job 1: [Start: 12, Stop: 21] [Start: 21, Stop: 24] [Start: 24, Stop: 27] [Start: 33, Stop: 38] \n",
      "Job 3: [Start: 21, Stop: 22] [Start: 24, Stop: 31] [Start: 31, Stop: 36] [Start: 38, Stop: 46] \n",
      "Job 6: [Start: 22, Stop: 27] [Start: 31, Stop: 33] [Start: 36, Stop: 43] [Start: 46, Stop: 48] \n",
      "Job 0: [Start: 27, Stop: 34] [Start: 34, Stop: 40] [Start: 43, Stop: 46] [Start: 48, Stop: 54] \n"
     ]
    }
   ],
   "source": [
    "import math\n",
    "\n",
    "def stochastic_optimization(PROC, initial_temp=1000, cooling_rate=0.99, max_iterations=1000):\n",
    "    def random_neighbour(sequence):\n",
    "        new_seq = sequence[:]\n",
    "        i, j = random.sample(range(len(new_seq)), 2)\n",
    "        new_seq[i], new_seq[j] = new_seq[j], new_seq[i]\n",
    "        return new_seq\n",
    "    \n",
    "    def acceptance_probability(old_cost, new_cost, temperature):\n",
    "        if new_cost < old_cost:\n",
    "            return 1.0\n",
    "        return math.exp((old_cost - new_cost) / temperature)\n",
    "    \n",
    "    # Initial job sequence\n",
    "    current_sequence = random.sample(range(len(PROC)), len(PROC))\n",
    "    current_cost = totalTime(PROC, current_sequence)\n",
    "    best_sequence = current_sequence[:]\n",
    "    best_cost = current_cost\n",
    "    \n",
    "    temperature = initial_temp\n",
    "    \n",
    "    for _ in range(max_iterations):\n",
    "        new_sequence = random_neighbour(current_sequence)\n",
    "        new_cost = totalTime(PROC, new_sequence)\n",
    "        \n",
    "        if acceptance_probability(current_cost, new_cost, temperature) > random.random():\n",
    "            current_sequence = new_sequence\n",
    "            current_cost = new_cost\n",
    "            \n",
    "        if current_cost < best_cost:\n",
    "            best_sequence = current_sequence\n",
    "            best_cost = current_cost\n",
    "            \n",
    "        temperature *= cooling_rate\n",
    "    \n",
    "    return best_sequence\n",
    "\n",
    "# Implementing Stochastic Optimization\n",
    "stochastic_schedule = stochastic_optimization(PROC)\n",
    "print(\"Stochastic Optimization Schedule:\", stochastic_schedule)\n",
    "stochastic_time = totalTime(PROC, stochastic_schedule)\n",
    "print(\"Total Time (Stochastic):\", stochastic_time)\n",
    "print_schedule(PROC, stochastic_schedule)\n"
   ]
  },
  {
   "cell_type": "code",
   "execution_count": 28,
   "id": "96053783",
   "metadata": {},
   "outputs": [
    {
     "name": "stdout",
     "output_type": "stream",
     "text": [
      "Ant Colony Optimization Schedule: [5, 4, 6, 3, 0, 2, 1]\n",
      "Total Time (ACO): 54\n",
      "Detailed Schedule:\n",
      "Job 5: [Start: 0, Stop: 1] [Start: 1, Stop: 8] [Start: 8, Stop: 12] [Start: 12, Stop: 17] \n",
      "Job 4: [Start: 1, Stop: 8] [Start: 8, Stop: 14] [Start: 14, Stop: 15] [Start: 17, Stop: 26] \n",
      "Job 6: [Start: 8, Stop: 13] [Start: 14, Stop: 16] [Start: 16, Stop: 23] [Start: 26, Stop: 28] \n",
      "Job 3: [Start: 13, Stop: 14] [Start: 16, Stop: 23] [Start: 23, Stop: 28] [Start: 28, Stop: 36] \n",
      "Job 0: [Start: 14, Stop: 21] [Start: 23, Stop: 29] [Start: 29, Stop: 32] [Start: 36, Stop: 42] \n",
      "Job 2: [Start: 21, Stop: 25] [Start: 29, Stop: 31] [Start: 32, Stop: 40] [Start: 42, Stop: 49] \n",
      "Job 1: [Start: 25, Stop: 34] [Start: 34, Stop: 37] [Start: 40, Stop: 43] [Start: 49, Stop: 54] \n"
     ]
    }
   ],
   "source": [
    "import numpy as np\n",
    "\n",
    "def ant_colony_optimization(PROC, n_ants=50, n_iterations=100, alpha=1.0, beta=2.0, evaporation_rate=0.5):\n",
    "    N_JOBS = len(PROC)\n",
    "    \n",
    "    pheromone_matrix = np.ones((N_JOBS, N_JOBS))\n",
    "    visibility_matrix = 1.0 / np.array([[sum(PROC[job]) for job in range(N_JOBS)] for _ in range(N_JOBS)])\n",
    "    \n",
    "    def choose_next_job(pheromone_row, visibility_row):\n",
    "        probabilities = (pheromone_row ** alpha) * (visibility_row ** beta)\n",
    "        probabilities /= probabilities.sum()\n",
    "        return np.random.choice(range(N_JOBS), p=probabilities)\n",
    "    \n",
    "    best_sequence = None\n",
    "    best_cost = float('inf')\n",
    "    \n",
    "    for iteration in range(n_iterations):\n",
    "        all_sequences = []\n",
    "        all_costs = []\n",
    "        \n",
    "        for _ in range(n_ants):\n",
    "            sequence = []\n",
    "            unvisited_jobs = set(range(N_JOBS))\n",
    "            current_job = random.choice(list(unvisited_jobs))\n",
    "            sequence.append(current_job)\n",
    "            unvisited_jobs.remove(current_job)\n",
    "            \n",
    "            while unvisited_jobs:\n",
    "                next_job = choose_next_job(pheromone_matrix[current_job], visibility_matrix[current_job])\n",
    "                while next_job not in unvisited_jobs:\n",
    "                    next_job = choose_next_job(pheromone_matrix[current_job], visibility_matrix[current_job])\n",
    "                sequence.append(next_job)\n",
    "                unvisited_jobs.remove(next_job)\n",
    "                current_job = next_job\n",
    "            \n",
    "            cost = totalTime(PROC, sequence)\n",
    "            all_sequences.append(sequence)\n",
    "            all_costs.append(cost)\n",
    "            \n",
    "            if cost < best_cost:\n",
    "                best_sequence = sequence\n",
    "                best_cost = cost\n",
    "        \n",
    "        # Update pheromones\n",
    "        pheromone_matrix *= (1 - evaporation_rate)\n",
    "        for sequence, cost in zip(all_sequences, all_costs):\n",
    "            for i in range(N_JOBS - 1):\n",
    "                pheromone_matrix[sequence[i]][sequence[i+1]] += 1.0 / cost\n",
    "    \n",
    "    return best_sequence\n",
    "\n",
    "# Implementing Ant Colony Optimization\n",
    "aco_schedule = ant_colony_optimization(PROC)\n",
    "print(\"Ant Colony Optimization Schedule:\", aco_schedule)\n",
    "aco_time = totalTime(PROC, aco_schedule)\n",
    "print(\"Total Time (ACO):\", aco_time)\n",
    "print_schedule(PROC, aco_schedule)\n"
   ]
  }
 ],
 "metadata": {
  "kernelspec": {
   "display_name": "Python 3 (ipykernel)",
   "language": "python",
   "name": "python3"
  },
  "language_info": {
   "codemirror_mode": {
    "name": "ipython",
    "version": 3
   },
   "file_extension": ".py",
   "mimetype": "text/x-python",
   "name": "python",
   "nbconvert_exporter": "python",
   "pygments_lexer": "ipython3",
   "version": "3.12.1"
  }
 },
 "nbformat": 4,
 "nbformat_minor": 5
}
