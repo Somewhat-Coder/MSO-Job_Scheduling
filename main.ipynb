{
 "cells": [
  {
   "cell_type": "code",
   "execution_count": 20,
   "id": "047ac0b5-0431-4ea3-a3f2-9ed54713bea0",
   "metadata": {},
   "outputs": [],
   "source": [
    "import random\n",
    "\n",
    "def generateData(machines=4, jobs=7, seed=0):\n",
    "    PROC = [ [ 0 for m in range(machines) ] for j in range(jobs) ]\n",
    "    random.seed(seed)\n",
    "    for j in range(jobs):\n",
    "        for m in range(machines):\n",
    "            PROC[j][m] = random.randint(1,9)\n",
    "    return PROC"
   ]
  },
  {
   "cell_type": "code",
   "execution_count": 21,
   "id": "519c7180-7401-4392-aa99-f5ad302f7937",
   "metadata": {},
   "outputs": [],
   "source": [
    "import pulp\n",
    "\n",
    "def IP(PROC):\n",
    "\n",
    "    steps = [ len(job) for job in PROC ]\n",
    "    assert(min(steps)==max(steps))\n",
    "    number_mach = len(PROC[0])\n",
    "    number_jobs = len(PROC)\n",
    "\n",
    "\n",
    "    def val(x):\n",
    "        return int(pulp.value(x))\n",
    "\n",
    "    def proc(job, machine):\n",
    "        return pulp.lpSum( [ PROC[j][machine] * JJ[job][j] for j in range(number_jobs) ] ) \n",
    "\n",
    "    JJ = pulp.LpVariable.dicts(\"J\", (range(number_jobs), range(number_jobs)), lowBound=0, upBound=1, cat='Integer')\n",
    "    Wait = pulp.LpVariable.dicts(\"WAIT\", (range(number_jobs), range(number_mach)), lowBound=0, cat='Integer')\n",
    "    Idle = pulp.LpVariable.dicts(\"IDLE\", (range(number_jobs), range(number_mach)), lowBound=0, cat='Integer')\n",
    "    Start = pulp.LpVariable.dicts(\"START\", (range(number_jobs), range(number_mach)), lowBound=0, cat='Integer')\n",
    "    Stop = pulp.LpVariable.dicts(\"STOP\", (range(number_jobs), range(number_mach)), lowBound=0, cat='Integer')\n",
    "\n",
    "    prob = pulp.LpProblem(\"JobScheduling\",pulp.LpMinimize)\n",
    "    prob += Stop[number_jobs-1][number_mach-1]\n",
    "\n",
    "    # JJ is a permutation of the jobs\n",
    "    for j in range(number_jobs):\n",
    "        prob += pulp.lpSum( [ JJ[j][jj] for jj in range(number_jobs) ] ) == 1\n",
    "        prob += pulp.lpSum( [ JJ[jj][j] for jj in range(number_jobs) ] ) == 1\n",
    "\n",
    "    for m in range(number_mach):\n",
    "        for j in range(number_jobs):\n",
    "            prob += pulp.lpSum( [ Idle[ji][m] + proc(ji, m) for ji in range(j) ] ) + Idle[j][m] == Start[j][m]\n",
    "\n",
    "    for m in range(number_mach):\n",
    "        for j in range(number_jobs):\n",
    "            prob += pulp.lpSum( [ Wait[j][mi] + proc(j, mi) for mi in range(m) ] ) + Wait[j][m] == Start[j][m]\n",
    "\n",
    "    for j in range(number_jobs):\n",
    "        for m in range(number_mach):\n",
    "            prob += Start[j][m] + proc(j,m) == Stop[j][m]\n",
    "\n",
    "    solvers = pulp.listSolvers(onlyAvailable=True) \n",
    "    solver = pulp.getSolver(solvers[0], msg=0)\n",
    "    prob.solve(solver)\n",
    "\n",
    "    acc = []\n",
    "    for j in range(number_jobs):\n",
    "        for jj in range(number_jobs):\n",
    "            if pulp.value(JJ[j][jj])==1:\n",
    "                acc.append(jj)\n",
    "                \n",
    "    return acc, int(pulp.value(prob.objective))"
   ]
  },
  {
   "cell_type": "code",
   "execution_count": 22,
   "id": "749c6fdd-d791-44af-a279-215508e0c1c1",
   "metadata": {},
   "outputs": [],
   "source": [
    "import numpy as np\n",
    "\n",
    "def totalTime(PROC, seq, log=False):\n",
    "    \n",
    "    def isPermutation(seq):\n",
    "        for i in range(len(seq)):\n",
    "            if i not in seq:\n",
    "                return False\n",
    "        return True\n",
    "    \n",
    "    steps = [ len(job) for job in PROC ]\n",
    "    assert(len(PROC) == len(seq))\n",
    "    assert(isPermutation(seq))\n",
    "    assert(min(steps)==max(steps))\n",
    "    number_mach = len(PROC[0])\n",
    "    number_jobs = len(PROC)\n",
    "    wait = np.zeros([number_jobs, number_mach], dtype=int)\n",
    "    idle = np.zeros([number_jobs, number_mach], dtype=int)\n",
    "    start = np.zeros([number_jobs, number_mach], dtype=int)\n",
    "    stop  = np.zeros([number_jobs, number_mach], dtype=int)\n",
    "    proc = np.zeros([number_jobs, number_mach], dtype=int)\n",
    "    for job in range(number_jobs):\n",
    "        proc[job] = PROC[seq[job]]\n",
    "    for job in range(number_jobs):\n",
    "        for machine in range(number_mach):\n",
    "            start[job, machine] = max(stop[job-1, machine] if job>0 else 0, stop[job, machine-1] if machine>0 else 0)\n",
    "            wait[job, machine] = start[job, machine] - (stop[job, machine-1] if machine>0 else 0)\n",
    "            idle[job, machine] = start[job, machine] - (stop[job-1, machine] if job>0 else 0)\n",
    "            stop[job, machine] = start[job, machine] + proc[job, machine]\n",
    "\n",
    "    if log:\n",
    "\n",
    "        row = '|---------|'\n",
    "        for m in range(number_mach):\n",
    "            row += f\"------------|\" \\\n",
    "                    f\"------------|\"\n",
    "        print(row)\n",
    "        \n",
    "        row = '|         |'\n",
    "        for m in range(number_mach):\n",
    "            row += f\"            |\" \\\n",
    "                    f\" Machine: {m:1d} |\"\n",
    "        print(row)\n",
    "        \n",
    "        for j in range(number_jobs):\n",
    "            \n",
    "            row = '|---------|'\n",
    "            for m in range(number_mach):\n",
    "                row += f\"------------|\" \\\n",
    "                       f\"------------|\"\n",
    "            print(row)\n",
    "            \n",
    "            row = '|         |'\n",
    "            for m in range(number_mach):\n",
    "                row += f\"       {' ':4s} | \" \\\n",
    "                       f\"Idle: {idle[j,m]:4d} |\"\n",
    "            print(row)\n",
    "            \n",
    "            row = '|---------|'\n",
    "            for m in range(number_mach):\n",
    "                row += f\"------------|\" \\\n",
    "                       f\"------------|\"\n",
    "            print(row)\n",
    "            \n",
    "            row = '|         |'\n",
    "            for m in range(number_mach):\n",
    "                row += f\"       {' ':4s} | \" \\\n",
    "                       f\"Start:{start[j,m]:4d} |\"  \n",
    "            print(row)\n",
    "            \n",
    "            row = f'| Job: {seq[j]:2d} |'\n",
    "            for m in range(number_mach):\n",
    "                row += f\" Wait: {wait[j,m]:4d} | \" \\\n",
    "                       f\"Proc: {proc[j,m]:4d} |\"\n",
    "            print(row)\n",
    "            \n",
    "            row = '|         |'\n",
    "            for m in range(number_mach):\n",
    "                row += f\"       {' ':4s} | \" \\\n",
    "                       f\"Stop: {stop[j,m]:4d} |\"  \n",
    "            print(row)\n",
    "            \n",
    "        row = '|---------|'\n",
    "        for m in range(number_mach):\n",
    "            row += f\"------------|\" \\\n",
    "                    f\"------------|\"\n",
    "        print(row)\n",
    "\n",
    "    \n",
    "    return stop[number_jobs-1, number_mach-1]                                                       "
   ]
  },
  {
   "cell_type": "code",
   "execution_count": 23,
   "id": "d17cd20b-c03b-465d-b468-a3c8fe23427f",
   "metadata": {},
   "outputs": [],
   "source": [
    "PROC = generateData(machines=4, jobs=7, seed=6800)"
   ]
  },
  {
   "cell_type": "code",
   "execution_count": 24,
   "id": "2c36d94c",
   "metadata": {},
   "outputs": [
    {
     "data": {
      "text/plain": [
       "[[2, 7, 3, 9],\n",
       " [2, 5, 2, 3],\n",
       " [8, 8, 5, 9],\n",
       " [8, 5, 7, 9],\n",
       " [6, 6, 7, 2],\n",
       " [5, 1, 1, 3],\n",
       " [9, 5, 9, 9]]"
      ]
     },
     "execution_count": 24,
     "metadata": {},
     "output_type": "execute_result"
    }
   ],
   "source": [
    "PROC"
   ]
  },
  {
   "cell_type": "markdown",
   "id": "7629b33d-97c6-4d2a-a31f-65e45520a1e2",
   "metadata": {},
   "source": [
    "Compute the optimal job schedule:"
   ]
  },
  {
   "cell_type": "code",
   "execution_count": 25,
   "id": "c1ac5d36-9498-47e9-9599-ba7607a04416",
   "metadata": {},
   "outputs": [
    {
     "name": "stdout",
     "output_type": "stream",
     "text": [
      "[0, 3, 1, 2, 6, 5, 4]\n",
      "57\n"
     ]
    }
   ],
   "source": [
    "seq, proctime = IP(PROC)\n",
    "print(seq)\n",
    "print(proctime)"
   ]
  },
  {
   "cell_type": "markdown",
   "id": "70f001fe-ded6-4463-9524-910eddc241e5",
   "metadata": {},
   "source": [
    "Check the processing time and print the schedule"
   ]
  },
  {
   "cell_type": "code",
   "execution_count": 26,
   "id": "0c6a705c-9655-4343-9e34-07b4cf31ea09",
   "metadata": {},
   "outputs": [
    {
     "name": "stdout",
     "output_type": "stream",
     "text": [
      "IP time: 57\n"
     ]
    }
   ],
   "source": [
    "ip_time = totalTime(PROC, seq)\n",
    "\n",
    "print(f'IP time: {ip_time}')"
   ]
  },
  {
   "cell_type": "code",
   "execution_count": 27,
   "id": "13805846-38f0-4006-a81d-4494b9e4089e",
   "metadata": {},
   "outputs": [
    {
     "name": "stdout",
     "output_type": "stream",
     "text": [
      "|---------|------------|------------|------------|------------|------------|------------|------------|------------|\n",
      "|         |            | Machine: 0 |            | Machine: 1 |            | Machine: 2 |            | Machine: 3 |\n",
      "|---------|------------|------------|------------|------------|------------|------------|------------|------------|\n",
      "|         |            | Idle:    0 |            | Idle:    2 |            | Idle:    9 |            | Idle:   12 |\n",
      "|---------|------------|------------|------------|------------|------------|------------|------------|------------|\n",
      "|         |            | Start:   0 |            | Start:   2 |            | Start:   9 |            | Start:  12 |\n",
      "| Job:  0 | Wait:    0 | Proc:    2 | Wait:    0 | Proc:    7 | Wait:    0 | Proc:    3 | Wait:    0 | Proc:    9 |\n",
      "|         |            | Stop:    2 |            | Stop:    9 |            | Stop:   12 |            | Stop:   21 |\n",
      "|---------|------------|------------|------------|------------|------------|------------|------------|------------|\n",
      "|         |            | Idle:    0 |            | Idle:    1 |            | Idle:    3 |            | Idle:    1 |\n",
      "|---------|------------|------------|------------|------------|------------|------------|------------|------------|\n",
      "|         |            | Start:   2 |            | Start:  10 |            | Start:  15 |            | Start:  22 |\n",
      "| Job:  3 | Wait:    2 | Proc:    8 | Wait:    0 | Proc:    5 | Wait:    0 | Proc:    7 | Wait:    0 | Proc:    9 |\n",
      "|         |            | Stop:   10 |            | Stop:   15 |            | Stop:   22 |            | Stop:   31 |\n",
      "|---------|------------|------------|------------|------------|------------|------------|------------|------------|\n",
      "|         |            | Idle:    0 |            | Idle:    0 |            | Idle:    0 |            | Idle:    0 |\n",
      "|---------|------------|------------|------------|------------|------------|------------|------------|------------|\n",
      "|         |            | Start:  10 |            | Start:  15 |            | Start:  22 |            | Start:  31 |\n",
      "| Job:  1 | Wait:   10 | Proc:    2 | Wait:    3 | Proc:    5 | Wait:    2 | Proc:    2 | Wait:    7 | Proc:    3 |\n",
      "|         |            | Stop:   12 |            | Stop:   20 |            | Stop:   24 |            | Stop:   34 |\n",
      "|---------|------------|------------|------------|------------|------------|------------|------------|------------|\n",
      "|         |            | Idle:    0 |            | Idle:    0 |            | Idle:    4 |            | Idle:    0 |\n",
      "|---------|------------|------------|------------|------------|------------|------------|------------|------------|\n",
      "|         |            | Start:  12 |            | Start:  20 |            | Start:  28 |            | Start:  34 |\n",
      "| Job:  2 | Wait:   12 | Proc:    8 | Wait:    0 | Proc:    8 | Wait:    0 | Proc:    5 | Wait:    1 | Proc:    9 |\n",
      "|         |            | Stop:   20 |            | Stop:   28 |            | Stop:   33 |            | Stop:   43 |\n",
      "|---------|------------|------------|------------|------------|------------|------------|------------|------------|\n",
      "|         |            | Idle:    0 |            | Idle:    1 |            | Idle:    1 |            | Idle:    0 |\n",
      "|---------|------------|------------|------------|------------|------------|------------|------------|------------|\n",
      "|         |            | Start:  20 |            | Start:  29 |            | Start:  34 |            | Start:  43 |\n",
      "| Job:  6 | Wait:   20 | Proc:    9 | Wait:    0 | Proc:    5 | Wait:    0 | Proc:    9 | Wait:    0 | Proc:    9 |\n",
      "|         |            | Stop:   29 |            | Stop:   34 |            | Stop:   43 |            | Stop:   52 |\n",
      "|---------|------------|------------|------------|------------|------------|------------|------------|------------|\n",
      "|         |            | Idle:    0 |            | Idle:    0 |            | Idle:    0 |            | Idle:    0 |\n",
      "|---------|------------|------------|------------|------------|------------|------------|------------|------------|\n",
      "|         |            | Start:  29 |            | Start:  34 |            | Start:  43 |            | Start:  52 |\n",
      "| Job:  5 | Wait:   29 | Proc:    5 | Wait:    0 | Proc:    1 | Wait:    8 | Proc:    1 | Wait:    8 | Proc:    3 |\n",
      "|         |            | Stop:   34 |            | Stop:   35 |            | Stop:   44 |            | Stop:   55 |\n",
      "|---------|------------|------------|------------|------------|------------|------------|------------|------------|\n",
      "|         |            | Idle:    0 |            | Idle:    5 |            | Idle:    2 |            | Idle:    0 |\n",
      "|---------|------------|------------|------------|------------|------------|------------|------------|------------|\n",
      "|         |            | Start:  34 |            | Start:  40 |            | Start:  46 |            | Start:  55 |\n",
      "| Job:  4 | Wait:   34 | Proc:    6 | Wait:    0 | Proc:    6 | Wait:    0 | Proc:    7 | Wait:    2 | Proc:    2 |\n",
      "|         |            | Stop:   40 |            | Stop:   46 |            | Stop:   53 |            | Stop:   57 |\n",
      "|---------|------------|------------|------------|------------|------------|------------|------------|------------|\n"
     ]
    },
    {
     "data": {
      "text/plain": [
       "57"
      ]
     },
     "execution_count": 27,
     "metadata": {},
     "output_type": "execute_result"
    }
   ],
   "source": [
    "totalTime(PROC, seq, log=True)"
   ]
  },
  {
   "cell_type": "markdown",
   "id": "72bd4682",
   "metadata": {},
   "source": [
    "# Greedy Algorithm"
   ]
  },
  {
   "cell_type": "code",
   "execution_count": 28,
   "id": "8c595d8b",
   "metadata": {},
   "outputs": [],
   "source": [
    "def greedy_algorithm(PROC):\n",
    "\n",
    "    number_jobs = len(PROC)\n",
    "    job_order = sorted(range(number_jobs), key=lambda j: sum(PROC[j]))\n",
    "    \n",
    "    return job_order"
   ]
  },
  {
   "cell_type": "markdown",
   "id": "a1c182db",
   "metadata": {},
   "source": [
    "# Genetic Algorithm"
   ]
  },
  {
   "cell_type": "code",
   "execution_count": 29,
   "id": "9b0eb4d3",
   "metadata": {},
   "outputs": [],
   "source": [
    "import random\n",
    "\n",
    "def genetic_algorithm(PROC, population_size=100, generations=500, mutation_rate=0.1):\n",
    "    number_jobs = len(PROC)\n",
    "    \n",
    "    def create_individual():\n",
    "        return random.sample(range(number_jobs), number_jobs)\n",
    "    \n",
    "    def crossover(parent1, parent2):\n",
    "        crossover_point = random.randint(1, number_jobs-2)\n",
    "        child1 = parent1[:crossover_point] + [job for job in parent2 if job not in parent1[:crossover_point]]\n",
    "        child2 = parent2[:crossover_point] + [job for job in parent1 if job not in parent2[:crossover_point]]\n",
    "        return child1, child2\n",
    "    \n",
    "    def mutate(individual):\n",
    "        i, j = random.sample(range(number_jobs), 2)\n",
    "        individual[i], individual[j] = individual[j], individual[i]\n",
    "    \n",
    "    def fitness(individual):\n",
    "        return totalTime(PROC, individual)\n",
    "    \n",
    "    population = [create_individual() for _ in range(population_size)]\n",
    "    \n",
    "    for _ in range(generations):\n",
    "\n",
    "        population = sorted(population, key=fitness)\n",
    "        \n",
    "        next_generation = population[:population_size//2] \n",
    "        \n",
    "        for i in range(0, len(next_generation), 2):\n",
    "            if i+1 < len(next_generation):\n",
    "                child1, child2 = crossover(next_generation[i], next_generation[i+1])\n",
    "                next_generation.append(child1)\n",
    "                next_generation.append(child2)\n",
    "        \n",
    "        for individual in next_generation[1:]: \n",
    "            if random.random() < mutation_rate:\n",
    "                mutate(individual)\n",
    "        \n",
    "        population = next_generation[:population_size]\n",
    "    \n",
    "    best_individual = min(population, key=fitness)\n",
    "    return best_individual"
   ]
  },
  {
   "cell_type": "code",
   "execution_count": 30,
   "id": "2a9d3ef6",
   "metadata": {},
   "outputs": [
    {
     "name": "stdout",
     "output_type": "stream",
     "text": [
      "Greedy Algorithm Schedule :  [5, 1, 0, 4, 3, 2, 6]\n",
      "Total Time (Greedy): 66\n",
      "Genetic Algorithm Schedule :  [0, 3, 1, 2, 6, 4, 5]\n",
      "Total Time (Genetic): 57\n"
     ]
    }
   ],
   "source": [
    "# Implementing Greedy Algorithm\n",
    "greedy_schedule = greedy_algorithm(PROC)\n",
    "print(\"Greedy Algorithm Schedule : \", greedy_schedule)\n",
    "greedy_time = totalTime(PROC, greedy_schedule)\n",
    "print(\"Total Time (Greedy):\", greedy_time)\n",
    "\n",
    "# Implementing Genetic Algorithm\n",
    "genetic_schedule = genetic_algorithm(PROC)\n",
    "print(\"Genetic Algorithm Schedule : \", genetic_schedule)\n",
    "genetic_time = totalTime(PROC, genetic_schedule)\n",
    "print(\"Total Time (Genetic):\", genetic_time)\n"
   ]
  },
  {
   "cell_type": "code",
   "execution_count": 31,
   "id": "2ee38825",
   "metadata": {},
   "outputs": [],
   "source": [
    "def print_schedule(PROC, job_order):\n",
    "    number_jobs = len(PROC)\n",
    "    number_mach = len(PROC[0])\n",
    "\n",
    "    start_time = [[0] * number_mach for _ in range(number_jobs)]\n",
    "    stop_time = [[0] * number_mach for _ in range(number_jobs)]\n",
    "    \n",
    "    for job_index in range(number_jobs):\n",
    "        job = job_order[job_index]\n",
    "        for machine in range(number_mach):\n",
    "            if machine == 0:\n",
    "                start_time[job][machine] = stop_time[job_order[job_index-1]][machine] if job_index > 0 else 0\n",
    "            else:\n",
    "                start_time[job][machine] = max(stop_time[job][machine-1], stop_time[job_order[job_index-1]][machine] if job_index > 0 else 0)\n",
    "            stop_time[job][machine] = start_time[job][machine] + PROC[job][machine]\n",
    "\n",
    "    print(\"Schedule:\")\n",
    "    for job in job_order:\n",
    "        print(f\"Job {job}: \", end=\"\")\n",
    "        for machine in range(number_mach):\n",
    "            print(f\"[Start: {start_time[job][machine]}, Stop: {stop_time[job][machine]}] \", end=\"\")\n",
    "        print()"
   ]
  },
  {
   "cell_type": "code",
   "execution_count": 32,
   "id": "56ccd1db",
   "metadata": {},
   "outputs": [
    {
     "name": "stdout",
     "output_type": "stream",
     "text": [
      "Greedy Algorithm Job Schedule: [5, 1, 0, 4, 3, 2, 6]\n",
      "|---------|------------|------------|------------|------------|------------|------------|------------|------------|\n",
      "|         |            | Machine: 0 |            | Machine: 1 |            | Machine: 2 |            | Machine: 3 |\n",
      "|---------|------------|------------|------------|------------|------------|------------|------------|------------|\n",
      "|         |            | Idle:    0 |            | Idle:    5 |            | Idle:    6 |            | Idle:    7 |\n",
      "|---------|------------|------------|------------|------------|------------|------------|------------|------------|\n",
      "|         |            | Start:   0 |            | Start:   5 |            | Start:   6 |            | Start:   7 |\n",
      "| Job:  5 | Wait:    0 | Proc:    5 | Wait:    0 | Proc:    1 | Wait:    0 | Proc:    1 | Wait:    0 | Proc:    3 |\n",
      "|         |            | Stop:    5 |            | Stop:    6 |            | Stop:    7 |            | Stop:   10 |\n",
      "|---------|------------|------------|------------|------------|------------|------------|------------|------------|\n",
      "|         |            | Idle:    0 |            | Idle:    1 |            | Idle:    5 |            | Idle:    4 |\n",
      "|---------|------------|------------|------------|------------|------------|------------|------------|------------|\n",
      "|         |            | Start:   5 |            | Start:   7 |            | Start:  12 |            | Start:  14 |\n",
      "| Job:  1 | Wait:    5 | Proc:    2 | Wait:    0 | Proc:    5 | Wait:    0 | Proc:    2 | Wait:    0 | Proc:    3 |\n",
      "|         |            | Stop:    7 |            | Stop:   12 |            | Stop:   14 |            | Stop:   17 |\n",
      "|---------|------------|------------|------------|------------|------------|------------|------------|------------|\n",
      "|         |            | Idle:    0 |            | Idle:    0 |            | Idle:    5 |            | Idle:    5 |\n",
      "|---------|------------|------------|------------|------------|------------|------------|------------|------------|\n",
      "|         |            | Start:   7 |            | Start:  12 |            | Start:  19 |            | Start:  22 |\n",
      "| Job:  0 | Wait:    7 | Proc:    2 | Wait:    3 | Proc:    7 | Wait:    0 | Proc:    3 | Wait:    0 | Proc:    9 |\n",
      "|         |            | Stop:    9 |            | Stop:   19 |            | Stop:   22 |            | Stop:   31 |\n",
      "|---------|------------|------------|------------|------------|------------|------------|------------|------------|\n",
      "|         |            | Idle:    0 |            | Idle:    0 |            | Idle:    3 |            | Idle:    1 |\n",
      "|---------|------------|------------|------------|------------|------------|------------|------------|------------|\n",
      "|         |            | Start:   9 |            | Start:  19 |            | Start:  25 |            | Start:  32 |\n",
      "| Job:  4 | Wait:    9 | Proc:    6 | Wait:    4 | Proc:    6 | Wait:    0 | Proc:    7 | Wait:    0 | Proc:    2 |\n",
      "|         |            | Stop:   15 |            | Stop:   25 |            | Stop:   32 |            | Stop:   34 |\n",
      "|---------|------------|------------|------------|------------|------------|------------|------------|------------|\n",
      "|         |            | Idle:    0 |            | Idle:    0 |            | Idle:    0 |            | Idle:    5 |\n",
      "|---------|------------|------------|------------|------------|------------|------------|------------|------------|\n",
      "|         |            | Start:  15 |            | Start:  25 |            | Start:  32 |            | Start:  39 |\n",
      "| Job:  3 | Wait:   15 | Proc:    8 | Wait:    2 | Proc:    5 | Wait:    2 | Proc:    7 | Wait:    0 | Proc:    9 |\n",
      "|         |            | Stop:   23 |            | Stop:   30 |            | Stop:   39 |            | Stop:   48 |\n",
      "|---------|------------|------------|------------|------------|------------|------------|------------|------------|\n",
      "|         |            | Idle:    0 |            | Idle:    1 |            | Idle:    0 |            | Idle:    0 |\n",
      "|---------|------------|------------|------------|------------|------------|------------|------------|------------|\n",
      "|         |            | Start:  23 |            | Start:  31 |            | Start:  39 |            | Start:  48 |\n",
      "| Job:  2 | Wait:   23 | Proc:    8 | Wait:    0 | Proc:    8 | Wait:    0 | Proc:    5 | Wait:    4 | Proc:    9 |\n",
      "|         |            | Stop:   31 |            | Stop:   39 |            | Stop:   44 |            | Stop:   57 |\n",
      "|---------|------------|------------|------------|------------|------------|------------|------------|------------|\n",
      "|         |            | Idle:    0 |            | Idle:    1 |            | Idle:    1 |            | Idle:    0 |\n",
      "|---------|------------|------------|------------|------------|------------|------------|------------|------------|\n",
      "|         |            | Start:  31 |            | Start:  40 |            | Start:  45 |            | Start:  57 |\n",
      "| Job:  6 | Wait:   31 | Proc:    9 | Wait:    0 | Proc:    5 | Wait:    0 | Proc:    9 | Wait:    3 | Proc:    9 |\n",
      "|         |            | Stop:   40 |            | Stop:   45 |            | Stop:   54 |            | Stop:   66 |\n",
      "|---------|------------|------------|------------|------------|------------|------------|------------|------------|\n",
      "Time Taken By Greedy Algorithm: 66\n",
      "Schedule:\n",
      "Job 5: [Start: 0, Stop: 5] [Start: 5, Stop: 6] [Start: 6, Stop: 7] [Start: 7, Stop: 10] \n",
      "Job 1: [Start: 5, Stop: 7] [Start: 7, Stop: 12] [Start: 12, Stop: 14] [Start: 14, Stop: 17] \n",
      "Job 0: [Start: 7, Stop: 9] [Start: 12, Stop: 19] [Start: 19, Stop: 22] [Start: 22, Stop: 31] \n",
      "Job 4: [Start: 9, Stop: 15] [Start: 19, Stop: 25] [Start: 25, Stop: 32] [Start: 32, Stop: 34] \n",
      "Job 3: [Start: 15, Stop: 23] [Start: 25, Stop: 30] [Start: 32, Stop: 39] [Start: 39, Stop: 48] \n",
      "Job 2: [Start: 23, Stop: 31] [Start: 31, Stop: 39] [Start: 39, Stop: 44] [Start: 48, Stop: 57] \n",
      "Job 6: [Start: 31, Stop: 40] [Start: 40, Stop: 45] [Start: 45, Stop: 54] [Start: 57, Stop: 66] \n"
     ]
    }
   ],
   "source": [
    "# Running Greedy Algorithm\n",
    "greedy_schedule = greedy_algorithm(PROC)\n",
    "print(\"Greedy Algorithm Job Schedule:\", greedy_schedule)\n",
    "greedy_time = totalTime(PROC, greedy_schedule, log=1)\n",
    "print(\"Time Taken By Greedy Algorithm:\", greedy_time)\n",
    "print_schedule(PROC, greedy_schedule)"
   ]
  },
  {
   "cell_type": "code",
   "execution_count": 33,
   "id": "8314b8b3",
   "metadata": {},
   "outputs": [
    {
     "name": "stdout",
     "output_type": "stream",
     "text": [
      "Genetic Algorithm Job Schedule: [0, 3, 1, 2, 6, 4, 5]\n",
      "|---------|------------|------------|------------|------------|------------|------------|------------|------------|\n",
      "|         |            | Machine: 0 |            | Machine: 1 |            | Machine: 2 |            | Machine: 3 |\n",
      "|---------|------------|------------|------------|------------|------------|------------|------------|------------|\n",
      "|         |            | Idle:    0 |            | Idle:    2 |            | Idle:    9 |            | Idle:   12 |\n",
      "|---------|------------|------------|------------|------------|------------|------------|------------|------------|\n",
      "|         |            | Start:   0 |            | Start:   2 |            | Start:   9 |            | Start:  12 |\n",
      "| Job:  0 | Wait:    0 | Proc:    2 | Wait:    0 | Proc:    7 | Wait:    0 | Proc:    3 | Wait:    0 | Proc:    9 |\n",
      "|         |            | Stop:    2 |            | Stop:    9 |            | Stop:   12 |            | Stop:   21 |\n",
      "|---------|------------|------------|------------|------------|------------|------------|------------|------------|\n",
      "|         |            | Idle:    0 |            | Idle:    1 |            | Idle:    3 |            | Idle:    1 |\n",
      "|---------|------------|------------|------------|------------|------------|------------|------------|------------|\n",
      "|         |            | Start:   2 |            | Start:  10 |            | Start:  15 |            | Start:  22 |\n",
      "| Job:  3 | Wait:    2 | Proc:    8 | Wait:    0 | Proc:    5 | Wait:    0 | Proc:    7 | Wait:    0 | Proc:    9 |\n",
      "|         |            | Stop:   10 |            | Stop:   15 |            | Stop:   22 |            | Stop:   31 |\n",
      "|---------|------------|------------|------------|------------|------------|------------|------------|------------|\n",
      "|         |            | Idle:    0 |            | Idle:    0 |            | Idle:    0 |            | Idle:    0 |\n",
      "|---------|------------|------------|------------|------------|------------|------------|------------|------------|\n",
      "|         |            | Start:  10 |            | Start:  15 |            | Start:  22 |            | Start:  31 |\n",
      "| Job:  1 | Wait:   10 | Proc:    2 | Wait:    3 | Proc:    5 | Wait:    2 | Proc:    2 | Wait:    7 | Proc:    3 |\n",
      "|         |            | Stop:   12 |            | Stop:   20 |            | Stop:   24 |            | Stop:   34 |\n",
      "|---------|------------|------------|------------|------------|------------|------------|------------|------------|\n",
      "|         |            | Idle:    0 |            | Idle:    0 |            | Idle:    4 |            | Idle:    0 |\n",
      "|---------|------------|------------|------------|------------|------------|------------|------------|------------|\n",
      "|         |            | Start:  12 |            | Start:  20 |            | Start:  28 |            | Start:  34 |\n",
      "| Job:  2 | Wait:   12 | Proc:    8 | Wait:    0 | Proc:    8 | Wait:    0 | Proc:    5 | Wait:    1 | Proc:    9 |\n",
      "|         |            | Stop:   20 |            | Stop:   28 |            | Stop:   33 |            | Stop:   43 |\n",
      "|---------|------------|------------|------------|------------|------------|------------|------------|------------|\n",
      "|         |            | Idle:    0 |            | Idle:    1 |            | Idle:    1 |            | Idle:    0 |\n",
      "|---------|------------|------------|------------|------------|------------|------------|------------|------------|\n",
      "|         |            | Start:  20 |            | Start:  29 |            | Start:  34 |            | Start:  43 |\n",
      "| Job:  6 | Wait:   20 | Proc:    9 | Wait:    0 | Proc:    5 | Wait:    0 | Proc:    9 | Wait:    0 | Proc:    9 |\n",
      "|         |            | Stop:   29 |            | Stop:   34 |            | Stop:   43 |            | Stop:   52 |\n",
      "|---------|------------|------------|------------|------------|------------|------------|------------|------------|\n",
      "|         |            | Idle:    0 |            | Idle:    1 |            | Idle:    0 |            | Idle:    0 |\n",
      "|---------|------------|------------|------------|------------|------------|------------|------------|------------|\n",
      "|         |            | Start:  29 |            | Start:  35 |            | Start:  43 |            | Start:  52 |\n",
      "| Job:  4 | Wait:   29 | Proc:    6 | Wait:    0 | Proc:    6 | Wait:    2 | Proc:    7 | Wait:    2 | Proc:    2 |\n",
      "|         |            | Stop:   35 |            | Stop:   41 |            | Stop:   50 |            | Stop:   54 |\n",
      "|---------|------------|------------|------------|------------|------------|------------|------------|------------|\n",
      "|         |            | Idle:    0 |            | Idle:    0 |            | Idle:    0 |            | Idle:    0 |\n",
      "|---------|------------|------------|------------|------------|------------|------------|------------|------------|\n",
      "|         |            | Start:  35 |            | Start:  41 |            | Start:  50 |            | Start:  54 |\n",
      "| Job:  5 | Wait:   35 | Proc:    5 | Wait:    1 | Proc:    1 | Wait:    8 | Proc:    1 | Wait:    3 | Proc:    3 |\n",
      "|         |            | Stop:   40 |            | Stop:   42 |            | Stop:   51 |            | Stop:   57 |\n",
      "|---------|------------|------------|------------|------------|------------|------------|------------|------------|\n",
      "Time Taken For Genetic Algorithm: 57\n",
      "Schedule:\n",
      "Job 0: [Start: 0, Stop: 2] [Start: 2, Stop: 9] [Start: 9, Stop: 12] [Start: 12, Stop: 21] \n",
      "Job 3: [Start: 2, Stop: 10] [Start: 10, Stop: 15] [Start: 15, Stop: 22] [Start: 22, Stop: 31] \n",
      "Job 1: [Start: 10, Stop: 12] [Start: 15, Stop: 20] [Start: 22, Stop: 24] [Start: 31, Stop: 34] \n",
      "Job 2: [Start: 12, Stop: 20] [Start: 20, Stop: 28] [Start: 28, Stop: 33] [Start: 34, Stop: 43] \n",
      "Job 6: [Start: 20, Stop: 29] [Start: 29, Stop: 34] [Start: 34, Stop: 43] [Start: 43, Stop: 52] \n",
      "Job 4: [Start: 29, Stop: 35] [Start: 35, Stop: 41] [Start: 43, Stop: 50] [Start: 52, Stop: 54] \n",
      "Job 5: [Start: 35, Stop: 40] [Start: 41, Stop: 42] [Start: 50, Stop: 51] [Start: 54, Stop: 57] \n"
     ]
    }
   ],
   "source": [
    "# Running Genetic Algorithm\n",
    "genetic_schedule = genetic_algorithm(PROC)\n",
    "print(\"Genetic Algorithm Job Schedule:\", genetic_schedule)\n",
    "genetic_time = totalTime(PROC, genetic_schedule, log = 1)\n",
    "print(\"Time Taken For Genetic Algorithm:\", genetic_time)\n",
    "print_schedule(PROC, genetic_schedule)"
   ]
  },
  {
   "cell_type": "code",
   "execution_count": 34,
   "id": "f124d279",
   "metadata": {},
   "outputs": [
    {
     "data": {
      "image/png": "[encoded data removed]",
      "text/plain": [
       "<Figure size 640x480 with 1 Axes>"
      ]
     },
     "metadata": {},
     "output_type": "display_data"
    }
   ],
   "source": [
    "import matplotlib.pyplot as plt\n",
    "\n",
    "plt.bar(['Greedy Algorithm', 'Genetic Algorithm', 'Iterative Integer'], [greedy_time, genetic_time, ip_time])\n",
    "\n",
    "plt.title('Time Taken by Algorithms')\n",
    "plt.xlabel('Scheduling Algorithms')\n",
    "plt.ylabel('Total Time For Schedule')\n",
    "\n",
    "plt.show()"
   ]
  },
  {
   "cell_type": "markdown",
   "id": "c0633eb8",
   "metadata": {},
   "source": [
    "## Algorithm Accuracy"
   ]
  },
  {
   "cell_type": "code",
   "execution_count": 35,
   "id": "efb78583",
   "metadata": {},
   "outputs": [
    {
     "name": "stdout",
     "output_type": "stream",
     "text": [
      "Greedy Algorithm Accuracy : 84.21%\n",
      "Genetic Algorithm Accuracy : 100.00%\n"
     ]
    }
   ],
   "source": [
    "def calculate_accuracy(algo_time, ip_time):\n",
    "    return (algo_time - ip_time) / ip_time * 100\n",
    "\n",
    "print('Greedy Algorithm Accuracy : {:.2f}%'.format(100 - calculate_accuracy(greedy_time, ip_time)))\n",
    "\n",
    "print('Genetic Algorithm Accuracy : {:.2f}%'.format(100 - calculate_accuracy(genetic_time, ip_time)))"
   ]
  }
 ],
 "metadata": {
  "kernelspec": {
   "display_name": "Python 3 (ipykernel)",
   "language": "python",
   "name": "python3"
  },
  "language_info": {
   "codemirror_mode": {
    "name": "ipython",
    "version": 3
   },
   "file_extension": ".py",
   "mimetype": "text/x-python",
   "name": "python",
   "nbconvert_exporter": "python",
   "pygments_lexer": "ipython3",
   "version": "3.12.1"
  }
 },
 "nbformat": 4,
 "nbformat_minor": 5
}
